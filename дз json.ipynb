{
 "cells": [
  {
   "cell_type": "code",
   "execution_count": null,
   "metadata": {},
   "outputs": [],
   "source": [
    "# Сколько твитов в наборе:"
   ]
  },
  {
   "cell_type": "code",
   "execution_count": 42,
   "metadata": {},
   "outputs": [
    {
     "name": "stdout",
     "output_type": "stream",
     "text": [
      "Ответ 1: 2556\n"
     ]
    }
   ],
   "source": [
    "twitter = []\n",
    "for line in open('hw_3_twitter.json'):\n",
    "    twitter.append(json.loads(line))\n",
    "print(\"Ответ 1:\", len(twitter))  \n"
   ]
  },
  {
   "cell_type": "code",
   "execution_count": null,
   "metadata": {},
   "outputs": [],
   "source": [
    "# Какой процент твитов составляют удаленные записи:"
   ]
  },
  {
   "cell_type": "code",
   "execution_count": 43,
   "metadata": {},
   "outputs": [
    {
     "name": "stdout",
     "output_type": "stream",
     "text": [
      "Ответ 2: 14.162754303599373\n"
     ]
    }
   ],
   "source": [
    "print(\"Ответ 2:\", (sum('delete' in t for t in twitter)/len(twitter))*100)"
   ]
  },
  {
   "cell_type": "code",
   "execution_count": null,
   "metadata": {},
   "outputs": [],
   "source": [
    "# Какие самые популярные языки твитов:\n"
   ]
  },
  {
   "cell_type": "code",
   "execution_count": 44,
   "metadata": {},
   "outputs": [
    {
     "name": "stdout",
     "output_type": "stream",
     "text": [
      "Ответ 3:\n",
      "1 . en\n",
      "2 . ja\n",
      "3 . es\n",
      "4 . ko\n",
      "5 . th\n",
      "6 . ar\n",
      "7 . und\n",
      "8 . in\n",
      "9 . pt\n",
      "10 . fr\n",
      "11 . tr\n",
      "12 . tl\n",
      "13 . hi\n",
      "14 . ru\n",
      "15 . fa\n",
      "16 . zh\n",
      "17 . ca\n",
      "18 . ur\n",
      "19 . nl\n",
      "20 . de\n"
     ]
    }
   ],
   "source": [
    "popular = [] \n",
    "for per in twitter:\n",
    "    if 'delete' in per:\n",
    "        lang = popular\n",
    "    else:\n",
    "        popular.append (per['lang'])\n",
    "        languages = Counter(popular)\n",
    "        pop_lang  = (Counter(languages).most_common())\n",
    "print(\"Ответ 3:\")\n",
    "for i in range(20): \n",
    "    print(i+1,'.',pop_lang[i][0])"
   ]
  },
  {
   "cell_type": "code",
   "execution_count": null,
   "metadata": {},
   "outputs": [],
   "source": [
    "# Есть ли твиты от одного и того же пользователя:"
   ]
  },
  {
   "cell_type": "code",
   "execution_count": 45,
   "metadata": {},
   "outputs": [
    {
     "name": "stdout",
     "output_type": "stream",
     "text": [
      "Ответ 4: Да, есть и их 25\n"
     ]
    }
   ],
   "source": [
    "users = []\n",
    "x = 0\n",
    "for i in range(len(twitter)):\n",
    "    if 'user' in twitter[i]:\n",
    "        users.append(twitter[i]['user']['id'])\n",
    "for i in Counter(users).most_common():\n",
    "    if i[1] > 1:\n",
    "        x += 1\n",
    "print(\"Ответ 4: Да, есть и их\", x)"
   ]
  },
  {
   "cell_type": "code",
   "execution_count": null,
   "metadata": {},
   "outputs": [],
   "source": [
    "# Топ-20 хэштегов:"
   ]
  },
  {
   "cell_type": "code",
   "execution_count": 46,
   "metadata": {},
   "outputs": [
    {
     "name": "stdout",
     "output_type": "stream",
     "text": [
      "Ответ 5:\n",
      "1 . BTS\n",
      "2 . 방탄소년단\n",
      "3 . AMAs\n",
      "4 . 人気投票ガチャ\n",
      "5 . 태형\n",
      "6 . 뷔\n",
      "7 . BTSinChicago\n",
      "8 . BTSLoveYourselfTour\n",
      "9 . 오늘의방탄\n",
      "10 . PledgeForSwachhBharat\n",
      "11 . MPN\n",
      "12 . PCAs\n",
      "13 . V\n",
      "14 . 시카고1회차공연\n",
      "15 . เป๊กผลิตโชค\n",
      "16 . JIMIN\n",
      "17 . running\n",
      "18 . NCT\n",
      "19 . 지민\n",
      "20 . WajahmuPlastik\n"
     ]
    }
   ],
   "source": [
    "hashtag = []\n",
    "for i in range(len(twitter)): \n",
    "    if 'entities' in twitter[i]: \n",
    "        if 'hashtags' in twitter[i]['entities']: \n",
    "            for hash in twitter[i]['entities']['hashtags']: \n",
    "                hashtag.append(hash['text']) \n",
    "c3 = Counter(hashtag) \n",
    "d3 = (Counter(c3).most_common()) \n",
    "print('Ответ 5:') \n",
    "for i in range(20): \n",
    "    print(i+1,'.',d3[i][0])"
   ]
  },
  {
   "cell_type": "code",
   "execution_count": null,
   "metadata": {},
   "outputs": [],
   "source": []
  }
 ],
 "metadata": {
  "kernelspec": {
   "display_name": "Python 3",
   "language": "python",
   "name": "python3"
  },
  "language_info": {
   "codemirror_mode": {
    "name": "ipython",
    "version": 3
   },
   "file_extension": ".py",
   "mimetype": "text/x-python",
   "name": "python",
   "nbconvert_exporter": "python",
   "pygments_lexer": "ipython3",
   "version": "3.7.3"
  }
 },
 "nbformat": 4,
 "nbformat_minor": 2
}
